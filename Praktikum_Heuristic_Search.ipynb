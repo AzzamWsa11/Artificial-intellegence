{
  "nbformat": 4,
  "nbformat_minor": 0,
  "metadata": {
    "colab": {
      "provenance": [],
      "authorship_tag": "ABX9TyMKoi6lj+06mOs12XeFiREW",
      "include_colab_link": true
    },
    "kernelspec": {
      "name": "python3",
      "display_name": "Python 3"
    },
    "language_info": {
      "name": "python"
    }
  },
  "cells": [
    {
      "cell_type": "markdown",
      "metadata": {
        "id": "view-in-github",
        "colab_type": "text"
      },
      "source": [
        "<a href=\"https://colab.research.google.com/github/AzzamWsa11/Artificial-intellegence/blob/main/Praktikum_Heuristic_Search.ipynb\" target=\"_parent\"><img src=\"https://colab.research.google.com/assets/colab-badge.svg\" alt=\"Open In Colab\"/></a>"
      ]
    },
    {
      "cell_type": "markdown",
      "source": [
        "1. Algoritma A* adalah algoritma pencarian jalur terpendek yang menggunakan fungsi heuristik untuk memandu pencarian. Dalam contoh ini, fungsi heuristik yang digunakan adalah jarak Manhattan, yang menghitung jarak antara dua titik dalam grid berdasarkan selisih koordinat x dan y. Algoritma ini bekerja dengan mempertahankan dua daftar: open_list dan closed_list. Open_list berisi node yang akan dieksplorasi, sedangkan closed_list berisi node yang sudah dieksplorasi. Algoritma ini memilih node dengan biaya terendah (g_score + h_score) untuk dieksplorasi terlebih dahulu. Jika node tujuan ditemukan, algoritma akan mengembalikan jalur terpendek dari titik awal ke titik tujuan."
      ],
      "metadata": {
        "id": "Dk8ngq_9beUj"
      }
    },
    {
      "cell_type": "code",
      "source": [
        "# 2. Contoh study case menggunakan algoritma A*\n",
        "import heapq\n",
        "\n",
        "def a_star(grid, start, goal):\n",
        "    def heuristic(a, b):\n",
        "        return abs(a[0] - b[0]) + abs(a[1] - b[1])\n",
        "\n",
        "    directions = [(0, 1), (1, 0), (0, -1), (-1, 0)]\n",
        "    open_list = []\n",
        "    heapq.heappush(open_list, (0, start))\n",
        "\n",
        "    g_score = {start: 0}\n",
        "    f_score = {start: heuristic(start, goal)}\n",
        "    came_from = {}\n",
        "\n",
        "    while open_list:\n",
        "        _, current = heapq.heappop(open_list)\n",
        "\n",
        "        if current == goal:\n",
        "            path = []\n",
        "            while current in came_from:\n",
        "                path.append(current)\n",
        "                current = came_from[current]\n",
        "            path.append(start)\n",
        "            path.reverse()\n",
        "            return path\n",
        "\n",
        "        for direction in directions:\n",
        "            neighbor = (current[0] + direction[0], current[1] + direction[1])\n",
        "\n",
        "            if 0 <= neighbor[0] < len(grid) and 0 <= neighbor[1] < len(grid[0]) and grid[neighbor[0]][neighbor[1]] == 0:\n",
        "                tentative_g_score = g_score[current] + 1\n",
        "\n",
        "                if neighbor not in g_score or tentative_g_score < g_score[neighbor]:\n",
        "                    came_from[neighbor] = current\n",
        "                    g_score[neighbor] = tentative_g_score\n",
        "                    f_score[neighbor] = tentative_g_score + heuristic(neighbor, goal)\n",
        "                    heapq.heappush(open_list, (f_score[neighbor], neighbor))\n",
        "\n",
        "    return None\n",
        "\n",
        "# Contoh grid\n",
        "grid = [\n",
        "    [0, 1, 0, 0, 0],\n",
        "    [0, 1, 0, 1, 0],\n",
        "    [0, 0, 0, 1, 0],\n",
        "    [0, 1, 0, 0, 0],\n",
        "    [0, 0, 0, 1, 0]\n",
        "]\n",
        "\n",
        "start = (0, 0)\n",
        "goal = (4, 4)\n",
        "\n",
        "path = a_star(grid, start, goal)\n",
        "print(\"Jalur terpendek:\", path)"
      ],
      "metadata": {
        "id": "5GkErTNwbi6N"
      },
      "execution_count": null,
      "outputs": []
    },
    {
      "cell_type": "markdown",
      "source": [
        "1. Analisis dari Contoh Hill Climbing\n",
        "Hill Climbing adalah algoritma optimasi yang bekerja dengan cara iteratif meningkatkan solusi kandidat hingga tidak ada lagi perbaikan yang dapat ditemukan. Algoritma ini dimulai dari solusi awal dan mencoba untuk bergerak ke solusi tetangga yang lebih baik. Jika solusi tetangga lebih baik, algoritma akan bergerak ke solusi tersebut. Proses ini berlanjut hingga tidak ada solusi tetangga yang lebih baik dari solusi saat ini. Hill Climbing rentan terhadap terjebak dalam optimum lokal, di mana solusi yang ditemukan bukanlah solusi terbaik secara global."
      ],
      "metadata": {
        "id": "1Q_C5B6Cb_wo"
      }
    },
    {
      "cell_type": "code",
      "source": [
        "# 2. Contoh study case menggunakan hill climbing\n",
        "import random\n",
        "\n",
        "def objective_function(x):\n",
        "    return -x**2 + 4*x\n",
        "\n",
        "def hill_climbing():\n",
        "    current_solution = random.uniform(-10, 10)\n",
        "    current_value = objective_function(current_solution)\n",
        "\n",
        "    step_size = 0.1\n",
        "    max_iterations = 1000\n",
        "\n",
        "    for _ in range(max_iterations):\n",
        "        neighbors = [current_solution + step_size, current_solution - step_size]\n",
        "\n",
        "        next_solution = max(neighbors, key=objective_function)\n",
        "        next_value = objective_function(next_solution)\n",
        "\n",
        "        if next_value > current_value:\n",
        "            current_solution = next_solution\n",
        "            current_value = next_value\n",
        "        else:\n",
        "            break\n",
        "\n",
        "    return current_solution, current_value\n",
        "\n",
        "best_solution, best_value = hill_climbing()\n",
        "print(f\"Solusi terbaik: {best_solution}\")\n",
        "print(f\"Nilai terbaik: {best_value}\")"
      ],
      "metadata": {
        "id": "gQTVXaHocHDb"
      },
      "execution_count": null,
      "outputs": []
    },
    {
      "cell_type": "markdown",
      "source": [
        "1. Analisis dari Contoh Greedy Best-First Search\n",
        "Greedy Best-First Search adalah algoritma pencarian yang menggunakan fungsi heuristik untuk memandu pencarian. Algoritma ini memilih node dengan nilai heuristik terendah untuk dieksplorasi terlebih dahulu. Dalam contoh ini, algoritma digunakan untuk routing hierarkis, di mana node-node dikelompokkan ke dalam wilayah tertentu. Algoritma ini memprioritaskan pencarian dalam wilayah yang sama sebelum beralih ke wilayah lain. Kelemahan dari algoritma ini adalah tidak menjamin jalur terpendek, karena hanya mempertimbangkan nilai heuristik tanpa mempertimbangkan biaya aktual dari jalur."
      ],
      "metadata": {
        "id": "iVMtEFXnc3pd"
      }
    },
    {
      "cell_type": "code",
      "source": [
        "#2. Contoh study case untuk greedy best-first search\n",
        "import heapq\n",
        "import networkx as nx\n",
        "import matplotlib.pyplot as plt\n",
        "\n",
        "class Node:\n",
        "    def __init__(self, name, heuristic):\n",
        "        self.name = name\n",
        "        self.heuristic = heuristic\n",
        "\n",
        "    def __lt__(self, other):\n",
        "        return self.heuristic < other.heuristic\n",
        "\n",
        "def greedy_best_first_search(graph, start, goal, heuristic):\n",
        "    priority_queue = []\n",
        "    heapq.heappush(priority_queue, Node(start, heuristic[start]))\n",
        "\n",
        "    visited = set()\n",
        "    path = {start: None}\n",
        "\n",
        "    while priority_queue:\n",
        "        current_node = heapq.heappop(priority_queue).name\n",
        "\n",
        "        if current_node == goal:\n",
        "            return reconstruct_path(path, start, goal)\n",
        "\n",
        "        visited.add(current_node)\n",
        "\n",
        "        for neighbor in graph[current_node]:\n",
        "            if neighbor not in visited:\n",
        "                heapq.heappush(priority_queue, Node(neighbor, heuristic[neighbor]))\n",
        "                if neighbor not in path:\n",
        "                    path[neighbor] = current_node\n",
        "\n",
        "    return None\n",
        "\n",
        "def reconstruct_path(path, start, goal):\n",
        "    current = goal\n",
        "    result_path = []\n",
        "    while current is not None:\n",
        "        result_path.append(current)\n",
        "        current = path[current]\n",
        "    result_path.reverse()\n",
        "    return result_path\n",
        "\n",
        "graph = {\n",
        "    'A': ['B', 'C'],\n",
        "    'B': ['D', 'E'],\n",
        "    'C': ['F', 'G'],\n",
        "    'D': ['H'],\n",
        "    'E': ['I', 'J'],\n",
        "    'F': ['K', 'L'],\n",
        "    'G': ['M'],\n",
        "    'H': [], 'I': [], 'J': [], 'K': [], 'L': [], 'M': []\n",
        "}\n",
        "\n",
        "heuristic = {\n",
        "    'A': 8, 'B': 6, 'C': 7, 'D': 5, 'E': 4, 'F': 5, 'G': 4,\n",
        "    'H': 3, 'I': 2, 'J': 1, 'K': 3, 'L': 2, 'M': 1\n",
        "}\n",
        "\n",
        "start_node = 'A'\n",
        "goal_node = 'M'\n",
        "result_path = greedy_best_first_search(graph, start_node, goal_node, heuristic)\n",
        "\n",
        "print(\"Jalur dari {} ke {}: {}\".format(start_node, goal_node, result_path))"
      ],
      "metadata": {
        "id": "9WcWd1vJc75v"
      },
      "execution_count": null,
      "outputs": []
    },
    {
      "cell_type": "markdown",
      "source": [
        "3. Perbedaan Cara Kerja BFS dan Greedy BFS\n",
        "BFS (Breadth-First Search):\n",
        "\n",
        "- BFS menjelajahi semua node pada level saat ini sebelum beralih ke node pada level berikutnya. BFS menggunakan antrian (queue) untuk menyimpan node yang akan dieksplorasi. BFS menjamin jalur terpendek dalam hal jumlah langkah (jika semua langkah memiliki biaya yang sama).\n",
        "\n",
        "- Greedy Best-First Search: Greedy BFS menggunakan fungsi heuristik untuk memilih node yang paling dekat dengan tujuan untuk dieksplorasi terlebih dahulu. Greedy BFS menggunakan antrian prioritas (priority queue) untuk menyimpan node berdasarkan nilai heuristiknya. Greedy BFS tidak menjamin jalur terpendek, karena hanya mempertimbangkan nilai heuristik tanpa mempertimbangkan biaya aktual dari jalur."
      ],
      "metadata": {
        "id": "KU6Yvz6Qef-v"
      }
    }
  ]
}